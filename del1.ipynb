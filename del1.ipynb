{
 "cells": [
  {
   "cell_type": "markdown",
   "id": "7a3cc75a",
   "metadata": {},
   "source": [
    "1. Vad är skillnaden på en tuple och list i Python? Är den ena datatypen bättre än den andra? "
   ]
  },
  {
   "cell_type": "code",
   "execution_count": null,
   "id": "8768c6ec",
   "metadata": {},
   "outputs": [],
   "source": [
    "\n",
    "# Innehållet i en list går att manipulera och redigera(mutable) men inte i en tuple(immutable). När en tuple blir definerad blir den låst och går inte att ändra. Båda är bra på olika sätt, ska du t ex göra en inköpslista kan du använda list för att ändra/ta bort/lägga till varor. En tuple är kanske bättre för att analysera eller göra uträkningar på, en tuple med definerade(låsta) värden."
   ]
  },
  {
   "cell_type": "markdown",
   "id": "b43c800d",
   "metadata": {},
   "source": [
    "2. Vad är en funktion för något? Varför kan funktioner vara användbara?"
   ]
  },
  {
   "cell_type": "code",
   "execution_count": null,
   "id": "3d56891e",
   "metadata": {},
   "outputs": [],
   "source": [
    "# En funktion är ett hjälpmedel i python som låter oss återanvända kod. Först def man funktionen med ett namn följt av parametrar. Parametrarna bestämmer vilka argument funktionen kan ta in. Vidare kan man kalla på funktionen genom att skrive dens namn följt av parantes och argumentet om det behövs. "
   ]
  },
  {
   "cell_type": "markdown",
   "id": "deb7f847",
   "metadata": {},
   "source": [
    "3. Förklara vad nedanstående begrepp, kopplat till klasser, betyder: \\\n",
    "a) Instans\\\n",
    "b) Attribut\\\n",
    "c) Metod"
   ]
  },
  {
   "cell_type": "code",
   "execution_count": null,
   "id": "51b75a61",
   "metadata": {},
   "outputs": [],
   "source": [
    "# En instans är något vi skapar av klassen, ett objekt. Med hjälp av attribut kan vi beskriva objektets tillstånd. Metod är den funktionalitet vi väljer att använda. Det finns en lång rad metoder vi kan använda i klasser."
   ]
  },
  {
   "cell_type": "markdown",
   "id": "1d2519c9",
   "metadata": {},
   "source": [
    "4. Vad är Streamlit för något? "
   ]
  },
  {
   "cell_type": "code",
   "execution_count": null,
   "id": "9c2a003c",
   "metadata": {},
   "outputs": [],
   "source": [
    "# Streamlit är ett ramverk i python som låter användare enkelt presentera sitt arbete. Med inbyggt html och css räcker det att du skriver några rader kod men får ut mycket resultat direkt på \"hemsidan\"."
   ]
  },
  {
   "cell_type": "markdown",
   "id": "c1374bcc",
   "metadata": {},
   "source": [
    "5. I Python ska du nu:\\\n",
    "a) Skapa en klass som heter BankAccount. Klassen skall ha attributet \"account_holder\"\n",
    "som visar kontoinnehavarens namn samt attributet \"balance\" som visar\n",
    "kontoinnehavarens balans. Klassen skall ha metoden \"deposit()\" för att kunna sätta in\n",
    "pengar på kontot samt metoden \"withdraw()\" för att kunna ta ut pengar från kontot. Om\n",
    "bankinnehavaren försöker ta ut mer pengar än vad som finns på kontot skall\n",
    "meddelandet \"Too low balance\" printas ut.\\\n",
    "b) Skapa en instans av klassen och testa så klassen funkar så som du förväntar dig. Du\n",
    "kan till exempel prova printa ut attributen, sätta in pengar och ta ut pengar."
   ]
  },
  {
   "cell_type": "code",
   "execution_count": null,
   "id": "2ba986d4",
   "metadata": {},
   "outputs": [],
   "source": [
    "class BankAccount: # A\n",
    "    def __init__(self, account_holder, balance=0):\n",
    "        self.account_holder = account_holder\n",
    "        self.balance = balance\n",
    "    \n",
    "    def deposit(self, amount):\n",
    "        self.balance += amount\n",
    "        \n",
    "    def withdraw(self, amount):\n",
    "        if self.balance <= amount:\n",
    "            print(f'Not enough cash on your account, please withdraw a smaller amount. Balance: {self.balance}')\n",
    "        else:\n",
    "            self.balance -= amount\n",
    "            \n",
    "    def checkBalance(self): # B\n",
    "        return self.balance\n",
    "            \n",
    "my_account = BankAccount(\"Ploski\", 4000)\n",
    "johns_account = BankAccount(\"John\", 20000)"
   ]
  },
  {
   "cell_type": "code",
   "execution_count": null,
   "id": "cc881f9a",
   "metadata": {},
   "outputs": [
    {
     "name": "stdout",
     "output_type": "stream",
     "text": [
      "Not enough cash on your account, please withdraw a smaller amount. Balance: 4000\n"
     ]
    }
   ],
   "source": [
    "my_account.withdraw(5000)"
   ]
  },
  {
   "cell_type": "code",
   "execution_count": null,
   "id": "d04f73f5",
   "metadata": {},
   "outputs": [],
   "source": [
    "johns_account.deposit(10000)"
   ]
  },
  {
   "cell_type": "code",
   "execution_count": null,
   "id": "d1c9fa5e",
   "metadata": {},
   "outputs": [
    {
     "data": {
      "text/plain": [
       "22000"
      ]
     },
     "execution_count": 25,
     "metadata": {},
     "output_type": "execute_result"
    }
   ],
   "source": [
    "johns_account.checkBalance() # B"
   ]
  },
  {
   "cell_type": "markdown",
   "id": "8e47c754",
   "metadata": {},
   "source": [
    "6. På intervjuer brukar ibland kodtest genomföras. Här är ett exempel på en fråga som hade\\\n",
    "kunnat dyka upp på ett kodtest.\\\n",
    "Skapa en Python funktion som beräknar antalet vokaler i en sträng. Vokalerna är:\\\n",
    "A, E, I, O, U, Y, Å, Ä och Ö.\\\n",
    "Exempelvis: vowel_checker(’hjärna’) ska returnera ”2” eftersom ordet ”hjärna” har de två\\\n",
    "vokalerna ”ä” och ”a”. "
   ]
  },
  {
   "cell_type": "code",
   "execution_count": 38,
   "id": "252b71bf",
   "metadata": {},
   "outputs": [],
   "source": [
    "def vowel_checker(word):\n",
    "    nvowels = 0\n",
    "    vowels = \"AEIOUYÅÄÖaeiouyåäö\"\n",
    "    for letter in word:\n",
    "        if letter in vowels:\n",
    "         nvowels += 1\n",
    "    return nvowels"
   ]
  },
  {
   "cell_type": "code",
   "execution_count": 39,
   "id": "2d7df730",
   "metadata": {},
   "outputs": [
    {
     "data": {
      "text/plain": [
       "1"
      ]
     },
     "execution_count": 39,
     "metadata": {},
     "output_type": "execute_result"
    }
   ],
   "source": [
    "vowel_checker(\"hej\")"
   ]
  },
  {
   "cell_type": "markdown",
   "id": "ce1e470b",
   "metadata": {},
   "source": [
    "7. På intervjuer brukar ibland kodtest genomföras. Här är ett exempel på en fråga som hade\\\n",
    "kunnat dyka upp på ett kodtest.\\\n",
    "Skapa en funktion som tar två listor som argument och returnerar de gemensamma\\\n",
    "elementen i listorna i en ny lista.\\\n",
    "Exempelvis:\\\n",
    "common_elements([4, ’apple’, 10, ’hi’, 3], ([23 ’apple’, 5, 9, 3]) ska returnera svaret\\\n",
    "[’apple’, 3]. "
   ]
  },
  {
   "cell_type": "code",
   "execution_count": 47,
   "id": "94b70c2c",
   "metadata": {},
   "outputs": [],
   "source": [
    "def common_elements(list1, list2):\n",
    "    list3 = list1.intersection(list2)\n",
    "    return list3 \n",
    "    \n",
    "    "
   ]
  },
  {
   "cell_type": "code",
   "execution_count": 48,
   "id": "63180f79",
   "metadata": {},
   "outputs": [
    {
     "data": {
      "text/plain": [
       "{2, 10}"
      ]
     },
     "execution_count": 48,
     "metadata": {},
     "output_type": "execute_result"
    }
   ],
   "source": [
    "common_elements({10, 15, 22, 2}, {2, 4, 10, 30})"
   ]
  },
  {
   "cell_type": "markdown",
   "id": "d9c56bb4",
   "metadata": {},
   "source": [
    "8. Många barn tror att de blev till genom att en stork kom och lämnade dem till deras\\\n",
    "föräldrar. För att undersöka det kan vi kolla på data och det finns en graf enligt figuren\\\n",
    "nedan. Det verkar alltså finnas ett samband mellan antalet storkar och barnafödsel!?\\\n",
    "Stämmer påståendet? Använd begreppet ”kausalitet” i ditt svar. \\"
   ]
  },
  {
   "cell_type": "code",
   "execution_count": null,
   "id": "de9649fb",
   "metadata": {},
   "outputs": [],
   "source": [
    "# Net det stämmer inte, det finns ingen kausalitet mellan dem eftersom storkar orsakar inte antalet födda barn. Grafen visar en korrelation. Då det kan visa ett samband mellan antalet födda barn och storkar kan inte den ena orsaka den andra som det gör när det finns kausalitet."
   ]
  },
  {
   "cell_type": "markdown",
   "id": "166215fd",
   "metadata": {},
   "source": [
    "9. Kim påstår att ”medelvärdet” är ett bättre mått än \"medianvärdet”. Håller du med Kalle? "
   ]
  },
  {
   "cell_type": "code",
   "execution_count": null,
   "id": "cc453639",
   "metadata": {},
   "outputs": [],
   "source": [
    "# Det skulle bero på datan i fråga som analyseras, om värdena i datan ligger nära varandra som t ex medeltemperaturen under juNi månad är medelvärdet en bättre mätning. "
   ]
  },
  {
   "cell_type": "markdown",
   "id": "97f6c1cf",
   "metadata": {},
   "source": [
    "10. Vad används cirkeldiagram för? Ge ett exempel på vad ett företag som Spotify\\\n",
    "(eller något annat företag som du själv väljer) hade kunnat använda cirkeldiagram för. "
   ]
  },
  {
   "cell_type": "code",
   "execution_count": null,
   "id": "77432b61",
   "metadata": {},
   "outputs": [],
   "source": [
    "# Cirkeldiagram används när man vill visa hur en helhet är fördelad i delar (procent). Cirkeldiagrammet är på sina 360° grader alltid 100%. Om vi tar t ex spotify kan vi med ett cirkeldiagramm se fördelningen av genrer användare lyssnar på."
   ]
  },
  {
   "cell_type": "markdown",
   "id": "5a644d3d",
   "metadata": {},
   "source": [
    "11. Vad används linjediagram för? Ge ett exempel på vad ett företag som Spotify\\\n",
    "(eller något annat företag som du själv väljer) hade kunnat använda linjediagram för."
   ]
  },
  {
   "cell_type": "code",
   "execution_count": null,
   "id": "f74bb9c6",
   "metadata": {},
   "outputs": [],
   "source": [
    "# Ett linjediagram används när man vill visa förändringen av ett värde (y) under en viss tid (x). Om vi tar spotify igen kan vi använda linjediagram för att se antal användare per månad under ett år."
   ]
  },
  {
   "cell_type": "markdown",
   "id": "6c698a16",
   "metadata": {},
   "source": [
    "12. Vad används lådagram för? "
   ]
  },
  {
   "cell_type": "code",
   "execution_count": null,
   "id": "ac7b16c1",
   "metadata": {},
   "outputs": [],
   "source": [
    "# Ett lådagram(boxplot) använder vi när vi vill visa hur datan är födelad. Spridningen, medianen och ev. avvikande värden. Minsta värde, första kvartilen, medianen, tredje kvartilen, största värdet och då till sist ev. avvikande värden.\n"
   ]
  }
 ],
 "metadata": {
  "kernelspec": {
   "display_name": ".venv",
   "language": "python",
   "name": "python3"
  },
  "language_info": {
   "codemirror_mode": {
    "name": "ipython",
    "version": 3
   },
   "file_extension": ".py",
   "mimetype": "text/x-python",
   "name": "python",
   "nbconvert_exporter": "python",
   "pygments_lexer": "ipython3",
   "version": "3.13.3"
  }
 },
 "nbformat": 4,
 "nbformat_minor": 5
}
